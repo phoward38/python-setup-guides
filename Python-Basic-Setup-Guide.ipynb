{
 "cells": [
  {
   "cell_type": "markdown",
   "id": "ec849ce9",
   "metadata": {},
   "source": [
    "# Python Setup Guide: Basic Edition (venv + pip)\n",
    "\n",
    "This beginner-friendly guide covers setting up Python using the built-in tools.\n",
    "\n",
    "## Prerequisites\n",
    "\n",
    "-   Visual Studio Code installed\n",
    "-   Python installed via Homebrew:\n",
    "\n",
    "```bash\n",
    "brew install python@3.11\n",
    "```\n"
   ]
  },
  {
   "cell_type": "markdown",
   "id": "d3fe7dcb",
   "metadata": {},
   "source": [
    "## Setting up Your Project\n",
    "\n",
    "1. Create a new project folder:\n",
    "\n",
    "```bash\n",
    "mkdir my_project\n",
    "cd my_project\n",
    "```\n",
    "\n",
    "2. Create a virtual environment:\n",
    "\n",
    "```bash\n",
    "python3 -m venv .venv\n",
    "```\n",
    "\n",
    "3. Activate the environment:\n",
    "\n",
    "```bash\n",
    "source .venv/bin/activate\n",
    "```\n",
    "\n",
    "You'll see (.venv) at the start of your terminal prompt when activated.\n",
    "\n",
    "## Installing Packages\n",
    "\n",
    "With your virtual environment active:\n",
    "\n",
    "```bash\n",
    "# Update pip\n",
    "pip install --upgrade pip\n",
    "\n",
    "# Install packages\n",
    "pip install requests pytest black\n",
    "\n",
    "# Save dependencies\n",
    "pip freeze > requirements.txt\n",
    "\n",
    "# Install from requirements\n",
    "pip install -r requirements.txt\n",
    "```\n"
   ]
  },
  {
   "cell_type": "markdown",
   "id": "a4ecddec",
   "metadata": {},
   "source": [
    "## VSCode Setup\n",
    "\n",
    "1. Install Python extension\n",
    "2. Select Interpreter:\n",
    "    - Cmd+Shift+P\n",
    "    - Type: \"Python: Select Interpreter\"\n",
    "    - Choose .venv/bin/python\n",
    "\n",
    "## Try It Out\n",
    "\n",
    "Create a new file `main.py`:\n"
   ]
  },
  {
   "cell_type": "code",
   "execution_count": null,
   "id": "2a9da7a3",
   "metadata": {},
   "outputs": [],
   "source": [
    "def main():\n",
    "    print(\"Setup successful!\")\n",
    "\n",
    "if __name__ == \"__main__\":\n",
    "    main()"
   ]
  }
 ],
 "metadata": {
  "language_info": {
   "name": "python"
  }
 },
 "nbformat": 4,
 "nbformat_minor": 5
}
