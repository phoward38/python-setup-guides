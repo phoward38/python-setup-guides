{
 "cells": [
  {
   "cell_type": "markdown",
   "id": "168986c7",
   "metadata": {},
   "source": [
    "# Python Setup Guide: Version Management (pyenv + pip)\n",
    "\n",
    "This guide covers managing multiple Python versions with pyenv.\n",
    "\n",
    "## Install pyenv\n",
    "\n",
    "```bash\n",
    "brew install pyenv\n",
    "\n",
    "# Add to shell (for zsh)\n",
    "echo 'eval \"$(pyenv init --path)\"' >> ~/.zshrc\n",
    "echo 'eval \"$(pyenv init -)\"' >> ~/.zshrc\n",
    "\n",
    "# Reload shell\n",
    "source ~/.zshrc\n",
    "```\n",
    "\n",
    "## Python Version Management\n",
    "\n",
    "```bash\n",
    "# List available versions\n",
    "pyenv install --list\n",
    "\n",
    "# Install specific versions\n",
    "pyenv install 3.11.0\n",
    "pyenv install 3.10.0\n",
    "\n",
    "# Set global version\n",
    "pyenv global 3.11.0\n",
    "\n",
    "# Verify installation\n",
    "python --version\n",
    "```\n"
   ]
  },
  {
   "cell_type": "markdown",
   "id": "8d669d0d",
   "metadata": {},
   "source": [
    "## Project Setup\n",
    "\n",
    "1. Create project:\n",
    "\n",
    "```bash\n",
    "mkdir python310_project\n",
    "cd python310_project\n",
    "\n",
    "# Set local Python version\n",
    "pyenv local 3.10.0\n",
    "\n",
    "# Create virtual environment\n",
    "python -m venv .venv\n",
    "source .venv/bin/activate\n",
    "```\n",
    "\n",
    "2. Install dependencies:\n",
    "\n",
    "```bash\n",
    "pip install --upgrade pip\n",
    "pip install requests pytest black\n",
    "pip freeze > requirements.txt\n",
    "```\n",
    "\n",
    "## Multiple Projects\n",
    "\n",
    "You can have different Python versions per project:\n",
    "\n",
    "```bash\n",
    "~/python310_project $ python --version\n",
    "Python 3.10.0\n",
    "\n",
    "~/python311_project $ python --version\n",
    "Python 3.11.0\n",
    "```\n"
   ]
  },
  {
   "cell_type": "markdown",
   "id": "52dfcd04",
   "metadata": {},
   "source": [
    "## VSCode Configuration\n",
    "\n",
    "1. Install Python extension\n",
    "2. Configure workspace settings:\n",
    "    - Cmd+Shift+P → Python: Select Interpreter\n",
    "    - Choose the version from .venv\n",
    "\n",
    "## Verify Setup\n",
    "\n",
    "Create `test_versions.py`:\n"
   ]
  },
  {
   "cell_type": "code",
   "execution_count": null,
   "id": "16668046",
   "metadata": {},
   "outputs": [],
   "source": [
    "import sys\n",
    "\n",
    "def main():\n",
    "    print(f\"Python version: {sys.version}\")\n",
    "    print(f\"Virtual env: {sys.prefix}\")\n",
    "\n",
    "if __name__ == \"__main__\":\n",
    "    main()"
   ]
  }
 ],
 "metadata": {
  "language_info": {
   "name": "python"
  }
 },
 "nbformat": 4,
 "nbformat_minor": 5
}
