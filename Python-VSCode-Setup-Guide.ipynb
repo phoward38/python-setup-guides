{
 "cells": [
  {
   "cell_type": "markdown",
   "id": "9bfbecdc",
   "metadata": {},
   "source": [
    "# Python Development Setup Guide for VSCode (macOS)\n",
    "\n",
    "This guide will help you set up a Python development environment in VSCode using Homebrew as the package manager.\n",
    "\n",
    "## Prerequisites\n",
    "\n",
    "-   Visual Studio Code installed\n",
    "-   Homebrew package manager\n",
    "-   Terminal access\n"
   ]
  },
  {
   "cell_type": "markdown",
   "id": "9423b030",
   "metadata": {},
   "source": [
    "## Installing Python using Homebrew\n",
    "\n",
    "1. Open Terminal and run:\n",
    "\n",
    "```bash\n",
    "brew install python@3.11\n",
    "```\n",
    "\n",
    "2. Verify the installation:\n",
    "\n",
    "```bash\n",
    "python3 --version\n",
    "```\n",
    "\n",
    "## Setting up Virtual Environments\n",
    "\n",
    "It's recommended to use virtual environments for project isolation. You have two main options:\n",
    "\n",
    "### Option 1: venv (Built-in)\n",
    "\n",
    "```bash\n",
    "# Create a new virtual environment\n",
    "python3 -m venv .venv\n",
    "\n",
    "# Activate the environment\n",
    "source .venv/bin/activate\n",
    "```\n",
    "\n",
    "### Option 2: Conda\n",
    "\n",
    "1. Install Miniconda:\n",
    "\n",
    "```bash\n",
    "brew install --cask miniconda\n",
    "```\n",
    "\n",
    "2. Create a new environment:\n",
    "\n",
    "```bash\n",
    "conda create -n myenv python=3.11\n",
    "conda activate myenv\n",
    "```\n"
   ]
  },
  {
   "cell_type": "markdown",
   "id": "9c33544a",
   "metadata": {},
   "source": [
    "## VSCode Configuration\n",
    "\n",
    "1. Install the Python extension for VSCode\n",
    "2. Open Command Palette (Cmd+Shift+P)\n",
    "3. Select Python: Select Interpreter\n",
    "4. Choose your virtual environment\n",
    "\n",
    "## Recommended VSCode Extensions\n",
    "\n",
    "-   Python (Microsoft)\n",
    "-   Pylance\n",
    "-   Python Test Explorer\n",
    "-   Python Docstring Generator\n",
    "-   Python Indent\n",
    "\n",
    "## Workspace Settings\n",
    "\n",
    "Create a `.vscode/settings.json` in your project root:\n"
   ]
  },
  {
   "cell_type": "code",
   "execution_count": null,
   "id": "1cbfe7fb",
   "metadata": {},
   "outputs": [],
   "source": [
    "{\n",
    "    \"python.defaultInterpreterPath\": \"${workspaceFolder}/.venv/bin/python\",\n",
    "    \"python.linting.enabled\": true,\n",
    "    \"python.linting.pylintEnabled\": true,\n",
    "    \"python.formatting.provider\": \"black\",\n",
    "    \"editor.formatOnSave\": true,\n",
    "    \"python.testing.pytestEnabled\": true\n",
    "}"
   ]
  },
  {
   "cell_type": "markdown",
   "id": "9047ef64",
   "metadata": {},
   "source": [
    "## Example Project Structure\n",
    "\n",
    "```\n",
    "my_project/\n",
    "├── .venv/\n",
    "├── .vscode/\n",
    "│   └── settings.json\n",
    "├── src/\n",
    "│   └── main.py\n",
    "└── tests/\n",
    "    └── test_main.py\n",
    "```\n",
    "\n",
    "## Test Your Setup\n",
    "\n",
    "Create a simple Python file and run it to verify your setup:\n"
   ]
  },
  {
   "cell_type": "code",
   "execution_count": null,
   "id": "a18ea318",
   "metadata": {},
   "outputs": [],
   "source": [
    "def greet(name: str) -> str:\n",
    "    return f\"Hello, {name}!\"\n",
    "\n",
    "if __name__ == \"__main__\":\n",
    "    print(greet(\"VSCode\"))"
   ]
  },
  {
   "cell_type": "markdown",
   "id": "b799b6d0",
   "metadata": {},
   "source": [
    "## Common Issues and Solutions\n",
    "\n",
    "1. **Python not found**: Ensure Python is in your PATH\n",
    "\n",
    "```bash\n",
    "export PATH=\"/usr/local/opt/python@3.11/bin:$PATH\"\n",
    "```\n",
    "\n",
    "2. **Virtual environment not activating**: Check permissions\n",
    "\n",
    "```bash\n",
    "chmod +x .venv/bin/activate\n",
    "```\n",
    "\n",
    "3. **Linter not working**: Install in virtual environment\n",
    "\n",
    "```bash\n",
    "pip install pylint black pytest\n",
    "```\n"
   ]
  }
 ],
 "metadata": {
  "language_info": {
   "name": "python"
  }
 },
 "nbformat": 4,
 "nbformat_minor": 5
}
