{
 "cells": [
  {
   "cell_type": "markdown",
   "id": "a097033b",
   "metadata": {},
   "source": [
    "# Python Setup Guide: Tool Separation (pipx + venv)\n",
    "\n",
    "This guide shows how to separate global tools from project dependencies.\n",
    "\n",
    "## Install pipx\n",
    "\n",
    "```bash\n",
    "brew install pipx\n",
    "pipx ensurepath\n",
    "```\n",
    "\n",
    "## Global Development Tools\n",
    "\n",
    "Install commonly used tools:\n",
    "\n",
    "```bash\n",
    "# Code formatting\n",
    "pipx install black\n",
    "pipx install isort\n",
    "\n",
    "# Linting\n",
    "pipx install pylint\n",
    "pipx install mypy\n",
    "\n",
    "# Testing\n",
    "pipx install pytest\n",
    "\n",
    "# Verify installations\n",
    "pipx list\n",
    "```\n"
   ]
  },
  {
   "cell_type": "markdown",
   "id": "16b08fff",
   "metadata": {},
   "source": [
    "## Project Setup with venv\n",
    "\n",
    "1. Create project structure:\n",
    "\n",
    "```bash\n",
    "mkdir my_project\n",
    "cd my_project\n",
    "python3 -m venv .venv\n",
    "source .venv/bin/activate\n",
    "```\n",
    "\n",
    "2. Create configuration files:\n",
    "\n",
    "`.pylintrc`:\n",
    "\n",
    "```ini\n",
    "[MESSAGES CONTROL]\n",
    "disable = C0111\n",
    "```\n",
    "\n",
    "`pyproject.toml`:\n",
    "\n",
    "```toml\n",
    "[tool.black]\n",
    "line-length = 88\n",
    "```\n"
   ]
  },
  {
   "cell_type": "markdown",
   "id": "12787400",
   "metadata": {},
   "source": [
    "## Project Dependencies\n",
    "\n",
    "Install project-specific packages in venv:\n",
    "\n",
    "```bash\n",
    "pip install requests\n",
    "pip install pandas\n",
    "pip freeze > requirements.txt\n",
    "```\n",
    "\n",
    "## VSCode Integration\n",
    "\n",
    "1. Install Python extension\n",
    "2. Add settings in `.vscode/settings.json`:\n"
   ]
  },
  {
   "cell_type": "code",
   "execution_count": null,
   "id": "38b95317",
   "metadata": {},
   "outputs": [],
   "source": [
    "{\n",
    "    \"python.linting.enabled\": true,\n",
    "    \"python.linting.pylintEnabled\": true,\n",
    "    \"python.formatting.provider\": \"black\",\n",
    "    \"editor.formatOnSave\": true,\n",
    "    \"[python]\": {\n",
    "        \"editor.formatOnSave\": true,\n",
    "        \"editor.codeActionsOnSave\": {\n",
    "            \"source.organizeImports\": true\n",
    "        }\n",
    "    }\n",
    "}"
   ]
  }
 ],
 "metadata": {
  "language_info": {
   "name": "python"
  }
 },
 "nbformat": 4,
 "nbformat_minor": 5
}
